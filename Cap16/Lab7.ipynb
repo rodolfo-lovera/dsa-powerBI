{
 "cells": [
  {
   "cell_type": "markdown",
   "metadata": {},
   "source": [
    "# Lab7: Segmentação de clientes com Machine Learning e Python\n",
    "\n",
    "Problema de negócio a ser trabalhado:\n",
    "* Considerando dados históricos de clientes que realizaram compras em nossa empresa, faça o agrupamentos dos clientes por similaridade de características em 3 grupos e envie o relatório para a equipe de Marketing"
   ]
  },
  {
   "cell_type": "markdown",
   "metadata": {},
   "source": [
    "## "
   ]
  }
 ],
 "metadata": {
  "language_info": {
   "name": "python"
  }
 },
 "nbformat": 4,
 "nbformat_minor": 2
}
